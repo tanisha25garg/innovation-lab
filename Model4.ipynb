{
  "nbformat": 4,
  "nbformat_minor": 0,
  "metadata": {
    "colab": {
      "provenance": [],
      "authorship_tag": "ABX9TyPPay81SNuGnf9ZMTf4oPVY",
      "include_colab_link": true
    },
    "kernelspec": {
      "name": "python3",
      "display_name": "Python 3"
    },
    "language_info": {
      "name": "python"
    }
  },
  "cells": [
    {
      "cell_type": "markdown",
      "metadata": {
        "id": "view-in-github",
        "colab_type": "text"
      },
      "source": [
        "<a href=\"https://colab.research.google.com/github/tanisha25garg/innovation-lab/blob/main/Model4.ipynb\" target=\"_parent\"><img src=\"https://colab.research.google.com/assets/colab-badge.svg\" alt=\"Open In Colab\"/></a>"
      ]
    },
    {
      "cell_type": "markdown",
      "source": [
        "Neurons in input layer: 4\n",
        "\n",
        "Number of hidden layers: 5\n",
        "\n",
        "Number of neurons in each hidden layer: 10\n",
        "\n",
        "Activation function: ReLU\n",
        "\n",
        "Optimizer: Adam\n",
        "\n",
        "Learning rate: 0.01\n",
        "\n",
        "Epochs: 1000\n",
        "\n",
        "Loss function: MSE"
      ],
      "metadata": {
        "id": "qMCUbWKQQBYd"
      }
    },
    {
      "cell_type": "markdown",
      "source": [
        "# Step-1 Mount Google Drive"
      ],
      "metadata": {
        "id": "tE3JbdfCXU1o"
      }
    },
    {
      "cell_type": "code",
      "source": [
        "from google.colab import drive\n",
        "drive.mount('/content/drive')"
      ],
      "metadata": {
        "colab": {
          "base_uri": "https://localhost:8080/"
        },
        "collapsed": true,
        "id": "3bzZfbY5QG4v",
        "outputId": "ad6d55d5-b039-4447-e532-4176a78f3319"
      },
      "execution_count": 4,
      "outputs": [
        {
          "output_type": "stream",
          "name": "stdout",
          "text": [
            "Drive already mounted at /content/drive; to attempt to forcibly remount, call drive.mount(\"/content/drive\", force_remount=True).\n"
          ]
        }
      ]
    },
    {
      "cell_type": "markdown",
      "source": [
        "# Step-2 Load data from excel"
      ],
      "metadata": {
        "id": "pKYhGVg-XoBo"
      }
    },
    {
      "cell_type": "code",
      "source": [
        "file_path = '/content/drive/MyDrive/Innovation/Simulation-results.xlsx'\n",
        "import pandas as pd\n",
        "# Load data from the Excel file\n",
        "data = pd.read_excel(file_path)\n",
        "\n",
        "# Access features and target variable\n",
        "X = data.iloc[:, :4].values\n",
        "y = data.iloc[:, 4].values  # assuming the target variable is in the 5th column"
      ],
      "metadata": {
        "id": "6pKcKJVNYVzB"
      },
      "execution_count": 5,
      "outputs": []
    },
    {
      "cell_type": "markdown",
      "source": [
        "# Step - 3 Preprocess Data"
      ],
      "metadata": {
        "id": "cLUcv5OJXto8"
      }
    },
    {
      "cell_type": "code",
      "source": [
        "from sklearn.model_selection import train_test_split\n",
        "from sklearn.preprocessing import StandardScaler\n",
        "X_train, X_test, y_train, y_test = train_test_split(X, y, test_size=0.2, random_state=42)\n",
        "scaler = StandardScaler()\n",
        "X_train = scaler.fit_transform(X_train)\n",
        "X_test = scaler.transform(X_test)"
      ],
      "metadata": {
        "id": "Bc9ID1eWYS1S"
      },
      "execution_count": 6,
      "outputs": []
    },
    {
      "cell_type": "markdown",
      "source": [
        "# Step-4 Build the DNN Model"
      ],
      "metadata": {
        "id": "XEX8ZvdwXw7y"
      }
    },
    {
      "cell_type": "code",
      "source": [
        "import tensorflow as tf\n",
        "from tensorflow import keras\n",
        "# Define the DNN model\n",
        "model = keras.Sequential()\n",
        "model.add(keras.layers.InputLayer(shape=(4,)))\n",
        "\n",
        "# Adding hidden layers\n",
        "for _ in range(5):\n",
        "    model.add(keras.layers.Dense(10, activation='relu'))\n",
        "\n",
        "# Output layer\n",
        "model.add(keras.layers.Dense(1))  # Assuming a regression task"
      ],
      "metadata": {
        "id": "oko_J7tGYMn9"
      },
      "execution_count": 7,
      "outputs": []
    },
    {
      "cell_type": "markdown",
      "source": [
        "# Step-5 Compile the Model"
      ],
      "metadata": {
        "id": "9uDQ8SIxX11N"
      }
    },
    {
      "cell_type": "code",
      "source": [
        "model.compile(optimizer=keras.optimizers.Adam(learning_rate=0.01),\n",
        "              loss='mean_squared_error')"
      ],
      "metadata": {
        "id": "011mbi8yYH8Q"
      },
      "execution_count": 8,
      "outputs": []
    },
    {
      "cell_type": "markdown",
      "source": [
        "# Step-6 Train the Model"
      ],
      "metadata": {
        "id": "rrAzlAoZX5DZ"
      }
    },
    {
      "cell_type": "code",
      "source": [
        "# Train the model with the custom callback\n",
        "history = model.fit(X_train, y_train, epochs=1000, verbose=1)"
      ],
      "metadata": {
        "id": "1t8TV5vqYCeS"
      },
      "execution_count": null,
      "outputs": []
    },
    {
      "cell_type": "markdown",
      "source": [
        "# Step-7 Evaluate the model"
      ],
      "metadata": {
        "id": "PSj1J4sBX86I"
      }
    },
    {
      "cell_type": "code",
      "source": [
        "import numpy as np\n",
        "from sklearn.metrics import r2_score, mean_absolute_error, mean_squared_error\n",
        "\n",
        "# Make predictions\n",
        "y_train_pred = model.predict(X_train)\n",
        "y_test_pred = model.predict(X_test)\n",
        "\n",
        "# Calculate statistical parameters\n",
        "def calculate_metrics(y_true, y_pred):\n",
        "    r2 = r2_score(y_true, y_pred)\n",
        "    mae = mean_absolute_error(y_true, y_pred)\n",
        "    mse = mean_squared_error(y_true, y_pred)\n",
        "    rmse = mse ** 0.5\n",
        "    vaf = 1 - (np.var(y_true - y_pred) / np.var(y_true))\n",
        "    ns = 1 - (np.sum((y_true - y_pred) ** 2) / np.sum((y_true - y_true.mean()) ** 2))\n",
        "    return r2, mae, rmse, vaf, ns\n",
        "\n",
        "train_metrics = calculate_metrics(y_train, y_train_pred)\n",
        "test_metrics = calculate_metrics(y_test, y_test_pred)\n",
        "\n",
        "print(\"\\tTraining Metrics\\t\\tTest Metrics\\n\")\n",
        "print(f\"R2\\t{train_metrics[0]}\\t\\t{test_metrics[0]}\\n\")\n",
        "print(f\"MAE\\t{train_metrics[1]}\\t\\t{test_metrics[1]}\\n\")\n",
        "print(f\"RMSE\\t{train_metrics[2]}\\t\\t{test_metrics[2]}\\n\")\n",
        "print(f\"VAF\\t{train_metrics[3]}\\t\\t{test_metrics[3]}\\n\")\n",
        "print(f\"NS\\t{train_metrics[4]}\\t\\t{test_metrics[4]}\\n\")"
      ],
      "metadata": {
        "colab": {
          "base_uri": "https://localhost:8080/"
        },
        "id": "fkllord7XI7V",
        "outputId": "ddf02f3d-b58a-4eae-94d6-898da657ff24"
      },
      "execution_count": 3,
      "outputs": [
        {
          "output_type": "stream",
          "name": "stdout",
          "text": [
            "\u001b[1m439/439\u001b[0m \u001b[32m━━━━━━━━━━━━━━━━━━━━\u001b[0m\u001b[37m\u001b[0m \u001b[1m1s\u001b[0m 2ms/step\n",
            "\u001b[1m110/110\u001b[0m \u001b[32m━━━━━━━━━━━━━━━━━━━━\u001b[0m\u001b[37m\u001b[0m \u001b[1m0s\u001b[0m 2ms/step\n",
            "\tTraining Metrics\t\tTest Metrics\n",
            "\n",
            "R2\t0.999428491278478\t\t0.9994264901178231\n",
            "\n",
            "MAE\t0.013837576956981942\t\t0.01362694737704538\n",
            "\n",
            "RMSE\t0.01768452855093394\t\t0.01735709063824383\n",
            "\n",
            "VAF\t-0.9829445255860583\t\t-0.9831335437699178\n",
            "\n",
            "NS\t-27839.561106213936\t\t-6961.7859250237525\n",
            "\n"
          ]
        }
      ]
    }
  ]
}