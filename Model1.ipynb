{
  "nbformat": 4,
  "nbformat_minor": 0,
  "metadata": {
    "colab": {
      "provenance": [],
      "authorship_tag": "ABX9TyMGj55pOsKQXL+Ly8t2ljJx",
      "include_colab_link": true
    },
    "kernelspec": {
      "name": "python3",
      "display_name": "Python 3"
    },
    "language_info": {
      "name": "python"
    }
  },
  "cells": [
    {
      "cell_type": "markdown",
      "metadata": {
        "id": "view-in-github",
        "colab_type": "text"
      },
      "source": [
        "<a href=\"https://colab.research.google.com/github/tanisha25garg/innovation-lab/blob/main/Model1.ipynb\" target=\"_parent\"><img src=\"https://colab.research.google.com/assets/colab-badge.svg\" alt=\"Open In Colab\"/></a>"
      ]
    },
    {
      "cell_type": "markdown",
      "source": [
        "Neurons in input layer: 4\n",
        "\n",
        "Number of hidden layers: 5\n",
        "\n",
        "Number of neurons in each hidden layer: 10\n",
        "\n",
        "Activation function: Linear\n",
        "\n",
        "Optimizer: Adam\n",
        "\n",
        "Learning rate: 0.3\n",
        "\n",
        "Epochs: 1000\n",
        "\n",
        "Loss function: MAE"
      ],
      "metadata": {
        "id": "XN0Dqbx9f_nC"
      }
    },
    {
      "cell_type": "markdown",
      "source": [
        "\n",
        "# Step 1: Load Data from Excel\n",
        "\n"
      ],
      "metadata": {
        "id": "8IvZW7_aedcY"
      }
    },
    {
      "cell_type": "code",
      "execution_count": 45,
      "metadata": {
        "id": "tZOjePUfOqYO"
      },
      "outputs": [],
      "source": [
        "import pandas as pd\n",
        "\n",
        "# Load data from an Excel file\n",
        "file_path = 'Simulation-results.xlsx'  # replace with your file path\n",
        "data = pd.read_excel(file_path)\n",
        "\n",
        "# Assuming the data has a header and the features are in the first 4 columns\n",
        "X = data.iloc[:, :4].values\n",
        "y = data.iloc[:, 4].values  # assuming the target variable is in the 5th column\n"
      ]
    },
    {
      "cell_type": "markdown",
      "source": [
        "# Step 2: Preprocess Data"
      ],
      "metadata": {
        "id": "bM5evhVgeu12"
      }
    },
    {
      "cell_type": "code",
      "source": [
        "from sklearn.model_selection import train_test_split\n",
        "\n",
        "X_train, X_test, y_train, y_test = train_test_split(X, y, test_size=0.2, random_state=42)\n"
      ],
      "metadata": {
        "id": "rSeKMyFLRbZe"
      },
      "execution_count": 46,
      "outputs": []
    },
    {
      "cell_type": "markdown",
      "source": [
        "# Step 3: Build the DNN Model\n"
      ],
      "metadata": {
        "id": "1ib-wCFXezz0"
      }
    },
    {
      "cell_type": "code",
      "source": [
        "import tensorflow as tf\n",
        "from tensorflow import keras\n",
        "\n",
        "# Define the DNN model\n",
        "model = keras.Sequential()\n",
        "model.add(keras.layers.InputLayer(shape=(4,)))\n",
        "\n",
        "# Adding hidden layers\n",
        "for _ in range(5):\n",
        "    model.add(keras.layers.Dense(10, activation='linear'))\n",
        "\n",
        "# Output layer\n",
        "model.add(keras.layers.Dense(1))  # Assuming a regression task\n"
      ],
      "metadata": {
        "id": "hljxZ7z4RpbJ"
      },
      "execution_count": 47,
      "outputs": []
    },
    {
      "cell_type": "markdown",
      "source": [
        "# Step 4: Compile the Model"
      ],
      "metadata": {
        "id": "quvdP1wne4tE"
      }
    },
    {
      "cell_type": "code",
      "source": [
        "model.compile(optimizer=keras.optimizers.Adam(learning_rate=0.3),\n",
        "              loss='mean_absolute_error')\n"
      ],
      "metadata": {
        "id": "0XLDZH0GS8QC"
      },
      "execution_count": 48,
      "outputs": []
    },
    {
      "cell_type": "markdown",
      "source": [
        "# Step 5: Train the Model"
      ],
      "metadata": {
        "id": "fxL5tus1e96N"
      }
    },
    {
      "cell_type": "code",
      "source": [
        "# Train the model with the custom callback\n",
        "history = model.fit(X_train, y_train, epochs=1000, verbose=1)\n"
      ],
      "metadata": {
        "collapsed": true,
        "id": "4dqS_cIVTHPU"
      },
      "execution_count": null,
      "outputs": []
    },
    {
      "cell_type": "markdown",
      "source": [
        "# Step 6: Evaluate the Model"
      ],
      "metadata": {
        "id": "BhZj8GgefA7g"
      }
    },
    {
      "cell_type": "code",
      "source": [
        "import numpy as np\n",
        "from sklearn.metrics import r2_score, mean_absolute_error, mean_squared_error\n",
        "\n",
        "# Make predictions\n",
        "y_train_pred = model.predict(X_train)\n",
        "y_test_pred = model.predict(X_test)\n",
        "\n",
        "# Calculate statistical parameters\n",
        "def calculate_metrics(y_true, y_pred):\n",
        "    r2 = r2_score(y_true, y_pred)\n",
        "    mae = mean_absolute_error(y_true, y_pred)\n",
        "    mse = mean_squared_error(y_true, y_pred)\n",
        "    rmse = mse ** 0.5\n",
        "    vaf = 1 - (np.var(y_true - y_pred) / np.var(y_true))\n",
        "    ns = 1 - (np.sum((y_true - y_pred) ** 2) / np.sum((y_true - y_true.mean()) ** 2))\n",
        "    return r2, mae, rmse, vaf, ns\n",
        "\n",
        "train_metrics = calculate_metrics(y_train, y_train_pred)\n",
        "test_metrics = calculate_metrics(y_test, y_test_pred)\n",
        "\n",
        "print(\"\\tTraining Metrics\\t\\tTest Metrics\\n\")\n",
        "print(f\"R2\\t{train_metrics[0]}\\t\\t{test_metrics[0]}\\n\")\n",
        "print(f\"MAE\\t{train_metrics[1]}\\t\\t{test_metrics[1]}\\n\")\n",
        "print(f\"RMSE\\t{train_metrics[2]}\\t\\t{test_metrics[2]}\\n\")\n",
        "print(f\"VAF\\t{train_metrics[3]}\\t\\t{test_metrics[3]}\\n\")\n",
        "print(f\"NS\\t{train_metrics[4]}\\t\\t{test_metrics[4]}\\n\")"
      ],
      "metadata": {
        "colab": {
          "base_uri": "https://localhost:8080/"
        },
        "id": "TD3wHxpBUQxH",
        "outputId": "4c8558d3-4294-4a11-e45b-9604e2335283"
      },
      "execution_count": 51,
      "outputs": [
        {
          "output_type": "stream",
          "name": "stdout",
          "text": [
            "\u001b[1m439/439\u001b[0m \u001b[32m━━━━━━━━━━━━━━━━━━━━\u001b[0m\u001b[37m\u001b[0m \u001b[1m1s\u001b[0m 1ms/step\n",
            "\u001b[1m110/110\u001b[0m \u001b[32m━━━━━━━━━━━━━━━━━━━━\u001b[0m\u001b[37m\u001b[0m \u001b[1m0s\u001b[0m 1ms/step\n",
            "\tTraining Metrics\t\tTest Metrics\n",
            "\n",
            "R2\t-739.9405013437138\t\t-768.3084216112495\n",
            "\n",
            "MAE\t17.26794694356988\t\t17.178934217319565\n",
            "\n",
            "RMSE\t20.136024120820757\t\t20.10280786527124\n",
            "\n",
            "VAF\t-242.37541873787376\t\t-248.11132852618223\n",
            "\n",
            "NS\t-10299290.881182007\t\t-2676246.0176877496\n",
            "\n"
          ]
        }
      ]
    }
  ]
}