{
  "cells": [
    {
      "cell_type": "markdown",
      "metadata": {
        "id": "view-in-github",
        "colab_type": "text"
      },
      "source": [
        "<a href=\"https://colab.research.google.com/github/tanisha25garg/innovation-lab/blob/main/Model1.ipynb\" target=\"_parent\"><img src=\"https://colab.research.google.com/assets/colab-badge.svg\" alt=\"Open In Colab\"/></a>"
      ]
    },
    {
      "cell_type": "markdown",
      "metadata": {
        "id": "XN0Dqbx9f_nC"
      },
      "source": [
        "Neurons in input layer: 4\n",
        "\n",
        "Number of hidden layers: 5\n",
        "\n",
        "Number of neurons in each hidden layer: 10\n",
        "\n",
        "Activation function: Linear\n",
        "\n",
        "Optimizer: Adam\n",
        "\n",
        "Learning rate: 0.3\n",
        "\n",
        "Epochs: 1000\n",
        "\n",
        "Loss function: MAE"
      ]
    },
    {
      "cell_type": "markdown",
      "metadata": {
        "id": "8IvZW7_aedcY"
      },
      "source": [
        "\n",
        "# Step 1: Load Data from Excel\n",
        "\n"
      ]
    },
    {
      "cell_type": "code",
      "execution_count": null,
      "metadata": {
        "id": "tZOjePUfOqYO"
      },
      "outputs": [],
      "source": [
        "import pandas as pd\n",
        "\n",
        "# Load data from an Excel file\n",
        "file_path = 'Simulation-results.xlsx'  # replace with your file path\n",
        "data = pd.read_excel(file_path)\n",
        "\n",
        "# Assuming the data has a header and the features are in the first 4 columns\n",
        "X = data.iloc[:, :4].values\n",
        "y = data.iloc[:, 4].values  # assuming the target variable is in the 5th column\n"
      ]
    },
    {
      "cell_type": "markdown",
      "metadata": {
        "id": "bM5evhVgeu12"
      },
      "source": [
        "# Step 2: Preprocess Data"
      ]
    },
    {
      "cell_type": "code",
      "execution_count": null,
      "metadata": {
        "id": "rSeKMyFLRbZe"
      },
      "outputs": [],
      "source": [
        "from sklearn.model_selection import train_test_split\n",
        "from sklearn.preprocessing import StandardScaler\n",
        "\n",
        "X_train, X_test, y_train, y_test = train_test_split(X, y, test_size=0.2, random_state=42)\n",
        "\n",
        "scaler = StandardScaler()\n",
        "X_train = scaler.fit_transform(X_train)\n",
        "X_test = scaler.transform(X_test)\n"
      ]
    },
    {
      "cell_type": "markdown",
      "metadata": {
        "id": "1ib-wCFXezz0"
      },
      "source": [
        "# Step 3: Build the DNN Model\n"
      ]
    },
    {
      "cell_type": "code",
      "execution_count": null,
      "metadata": {
        "id": "hljxZ7z4RpbJ"
      },
      "outputs": [],
      "source": [
        "import tensorflow as tf\n",
        "from tensorflow import keras\n",
        "\n",
        "# Define the DNN model\n",
        "model = keras.Sequential()\n",
        "model.add(keras.layers.InputLayer(shape=(4,)))\n",
        "\n",
        "# Adding hidden layers\n",
        "for _ in range(5):\n",
        "    model.add(keras.layers.Dense(10, activation='linear'))\n",
        "\n",
        "# Output layer\n",
        "model.add(keras.layers.Dense(1))  # Assuming a regression task\n"
      ]
    },
    {
      "cell_type": "markdown",
      "metadata": {
        "id": "quvdP1wne4tE"
      },
      "source": [
        "# Step 4: Compile the Model"
      ]
    },
    {
      "cell_type": "code",
      "execution_count": null,
      "metadata": {
        "id": "0XLDZH0GS8QC"
      },
      "outputs": [],
      "source": [
        "model.compile(optimizer=keras.optimizers.Adam(learning_rate=0.3),\n",
        "              loss='mean_absolute_error')\n"
      ]
    },
    {
      "cell_type": "markdown",
      "metadata": {
        "id": "fxL5tus1e96N"
      },
      "source": [
        "# Step 5: Train the Model"
      ]
    },
    {
      "cell_type": "code",
      "execution_count": null,
      "metadata": {
        "colab": {
          "background_save": true
        },
        "id": "4dqS_cIVTHPU"
      },
      "outputs": [],
      "source": [
        "# Train the model with the custom callback\n",
        "history = model.fit(X_train, y_train, epochs=1000, verbose=1)\n"
      ]
    },
    {
      "cell_type": "markdown",
      "metadata": {
        "id": "BhZj8GgefA7g"
      },
      "source": [
        "# Step 6: Evaluate the Model"
      ]
    },
    {
      "cell_type": "code",
      "execution_count": null,
      "metadata": {
        "colab": {
          "background_save": true
        },
        "id": "TD3wHxpBUQxH",
        "outputId": "131a5cab-6f4e-444c-94a6-7644ec409873"
      },
      "outputs": [
        {
          "name": "stdout",
          "output_type": "stream",
          "text": [
            "\u001b[1m439/439\u001b[0m \u001b[32m━━━━━━━━━━━━━━━━━━━━\u001b[0m\u001b[37m\u001b[0m \u001b[1m1s\u001b[0m 1ms/step\n",
            "\u001b[1m110/110\u001b[0m \u001b[32m━━━━━━━━━━━━━━━━━━━━\u001b[0m\u001b[37m\u001b[0m \u001b[1m0s\u001b[0m 1ms/step\n",
            "\tTraining Metrics\t\tTest Metrics\n",
            "\n",
            "R2\t-0.5953275097920119\t\t-0.6759756333595555\n",
            "\n",
            "MAE\t0.7540432220235447\t\t0.7560849691079803\n",
            "\n",
            "RMSE\t0.934344390247032\t\t0.9382970018737085\n",
            "\n",
            "VAF\t-2.0172392822836827\t\t-2.068499925758218\n",
            "\n",
            "NS\t-42367.10474234765\t\t-10778.715860453041\n",
            "\n"
          ]
        }
      ],
      "source": [
        "import numpy as np\n",
        "from sklearn.metrics import r2_score, mean_absolute_error, mean_squared_error\n",
        "\n",
        "# Make predictions\n",
        "y_train_pred = model.predict(X_train)\n",
        "y_test_pred = model.predict(X_test)\n",
        "\n",
        "# Calculate statistical parameters\n",
        "def calculate_metrics(y_true, y_pred):\n",
        "    r2 = r2_score(y_true, y_pred)\n",
        "    mae = mean_absolute_error(y_true, y_pred)\n",
        "    mse = mean_squared_error(y_true, y_pred)\n",
        "    rmse = mse ** 0.5\n",
        "    vaf = 1 - (np.var(y_true - y_pred) / np.var(y_true))\n",
        "    ns = 1 - (np.sum((y_true - y_pred) ** 2) / np.sum((y_true - y_true.mean()) ** 2))\n",
        "    return r2, mae, rmse, vaf, ns\n",
        "\n",
        "train_metrics = calculate_metrics(y_train, y_train_pred)\n",
        "test_metrics = calculate_metrics(y_test, y_test_pred)\n",
        "\n",
        "print(\"\\tTraining Metrics\\t\\tTest Metrics\\n\")\n",
        "print(f\"R2\\t{train_metrics[0]}\\t\\t{test_metrics[0]}\\n\")\n",
        "print(f\"MAE\\t{train_metrics[1]}\\t\\t{test_metrics[1]}\\n\")\n",
        "print(f\"RMSE\\t{train_metrics[2]}\\t\\t{test_metrics[2]}\\n\")\n",
        "print(f\"VAF\\t{train_metrics[3]}\\t\\t{test_metrics[3]}\\n\")\n",
        "print(f\"NS\\t{train_metrics[4]}\\t\\t{test_metrics[4]}\\n\")"
      ]
    }
  ],
  "metadata": {
    "colab": {
      "provenance": [],
      "authorship_tag": "ABX9TyOqw5VNDQo1rj7JEOmIEWWP",
      "include_colab_link": true
    },
    "kernelspec": {
      "display_name": "Python 3",
      "name": "python3"
    },
    "language_info": {
      "name": "python"
    }
  },
  "nbformat": 4,
  "nbformat_minor": 0
}